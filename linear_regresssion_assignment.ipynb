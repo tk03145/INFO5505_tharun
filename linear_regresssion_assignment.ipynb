{
  "cells": [
    {
      "cell_type": "markdown",
      "metadata": {
        "id": "view-in-github",
        "colab_type": "text"
      },
      "source": [
        "<a href=\"https://colab.research.google.com/github/tk03145/INFO5505_tharun/blob/main/linear_regresssion_assignment.ipynb\" target=\"_parent\"><img src=\"https://colab.research.google.com/assets/colab-badge.svg\" alt=\"Open In Colab\"/></a>"
      ]
    },
    {
      "cell_type": "markdown",
      "id": "3ebb4640",
      "metadata": {
        "id": "3ebb4640"
      },
      "source": [
        " Task 1 :# MODEL1"
      ]
    },
    {
      "cell_type": "code",
      "execution_count": 3,
      "id": "f83b61b5",
      "metadata": {
        "id": "f83b61b5"
      },
      "outputs": [],
      "source": [
        "import pandas as pd\n",
        "import numpy as np\n",
        "import matplotlib.pyplot as plt"
      ]
    },
    {
      "cell_type": "code",
      "execution_count": 6,
      "id": "7a32bed4",
      "metadata": {
        "id": "7a32bed4"
      },
      "outputs": [],
      "source": [
        "dt =pd.read_csv('/content/monet.csv')"
      ]
    },
    {
      "cell_type": "code",
      "execution_count": 7,
      "id": "75c30e15",
      "metadata": {
        "colab": {
          "base_uri": "https://localhost:8080/",
          "height": 424
        },
        "id": "75c30e15",
        "outputId": "44fedfa1-f57b-4527-a989-84e308d38ea0"
      },
      "outputs": [
        {
          "output_type": "execute_result",
          "data": {
            "text/plain": [
              "        PRICE  HEIGHT  WIDTH  SIGNED  PICTURE  HOUSE \n",
              "0    3.993780    21.3   25.6       1        1       1\n",
              "1    8.800000    31.9   25.6       1        2       2\n",
              "2    0.131694     6.9   15.9       0        3       3\n",
              "3    2.037500    25.7   32.0       1        4       2\n",
              "4    1.487500    25.7   32.0       1        4       2\n",
              "..        ...     ...    ...     ...      ...     ...\n",
              "425  5.282500    25.6   39.4       1      375       1\n",
              "426  9.352500    25.9   39.6       1      375       2\n",
              "427  8.252500    25.6   39.6       1      375       1\n",
              "428  3.410000    25.6   39.4       1      386       2\n",
              "429  1.542500    25.7   32.0       1      387       1\n",
              "\n",
              "[430 rows x 6 columns]"
            ],
            "text/html": [
              "\n",
              "  <div id=\"df-f77c1d4a-69bd-4633-b6bb-5a9a5d6f30a0\">\n",
              "    <div class=\"colab-df-container\">\n",
              "      <div>\n",
              "<style scoped>\n",
              "    .dataframe tbody tr th:only-of-type {\n",
              "        vertical-align: middle;\n",
              "    }\n",
              "\n",
              "    .dataframe tbody tr th {\n",
              "        vertical-align: top;\n",
              "    }\n",
              "\n",
              "    .dataframe thead th {\n",
              "        text-align: right;\n",
              "    }\n",
              "</style>\n",
              "<table border=\"1\" class=\"dataframe\">\n",
              "  <thead>\n",
              "    <tr style=\"text-align: right;\">\n",
              "      <th></th>\n",
              "      <th>PRICE</th>\n",
              "      <th>HEIGHT</th>\n",
              "      <th>WIDTH</th>\n",
              "      <th>SIGNED</th>\n",
              "      <th>PICTURE</th>\n",
              "      <th>HOUSE</th>\n",
              "    </tr>\n",
              "  </thead>\n",
              "  <tbody>\n",
              "    <tr>\n",
              "      <th>0</th>\n",
              "      <td>3.993780</td>\n",
              "      <td>21.3</td>\n",
              "      <td>25.6</td>\n",
              "      <td>1</td>\n",
              "      <td>1</td>\n",
              "      <td>1</td>\n",
              "    </tr>\n",
              "    <tr>\n",
              "      <th>1</th>\n",
              "      <td>8.800000</td>\n",
              "      <td>31.9</td>\n",
              "      <td>25.6</td>\n",
              "      <td>1</td>\n",
              "      <td>2</td>\n",
              "      <td>2</td>\n",
              "    </tr>\n",
              "    <tr>\n",
              "      <th>2</th>\n",
              "      <td>0.131694</td>\n",
              "      <td>6.9</td>\n",
              "      <td>15.9</td>\n",
              "      <td>0</td>\n",
              "      <td>3</td>\n",
              "      <td>3</td>\n",
              "    </tr>\n",
              "    <tr>\n",
              "      <th>3</th>\n",
              "      <td>2.037500</td>\n",
              "      <td>25.7</td>\n",
              "      <td>32.0</td>\n",
              "      <td>1</td>\n",
              "      <td>4</td>\n",
              "      <td>2</td>\n",
              "    </tr>\n",
              "    <tr>\n",
              "      <th>4</th>\n",
              "      <td>1.487500</td>\n",
              "      <td>25.7</td>\n",
              "      <td>32.0</td>\n",
              "      <td>1</td>\n",
              "      <td>4</td>\n",
              "      <td>2</td>\n",
              "    </tr>\n",
              "    <tr>\n",
              "      <th>...</th>\n",
              "      <td>...</td>\n",
              "      <td>...</td>\n",
              "      <td>...</td>\n",
              "      <td>...</td>\n",
              "      <td>...</td>\n",
              "      <td>...</td>\n",
              "    </tr>\n",
              "    <tr>\n",
              "      <th>425</th>\n",
              "      <td>5.282500</td>\n",
              "      <td>25.6</td>\n",
              "      <td>39.4</td>\n",
              "      <td>1</td>\n",
              "      <td>375</td>\n",
              "      <td>1</td>\n",
              "    </tr>\n",
              "    <tr>\n",
              "      <th>426</th>\n",
              "      <td>9.352500</td>\n",
              "      <td>25.9</td>\n",
              "      <td>39.6</td>\n",
              "      <td>1</td>\n",
              "      <td>375</td>\n",
              "      <td>2</td>\n",
              "    </tr>\n",
              "    <tr>\n",
              "      <th>427</th>\n",
              "      <td>8.252500</td>\n",
              "      <td>25.6</td>\n",
              "      <td>39.6</td>\n",
              "      <td>1</td>\n",
              "      <td>375</td>\n",
              "      <td>1</td>\n",
              "    </tr>\n",
              "    <tr>\n",
              "      <th>428</th>\n",
              "      <td>3.410000</td>\n",
              "      <td>25.6</td>\n",
              "      <td>39.4</td>\n",
              "      <td>1</td>\n",
              "      <td>386</td>\n",
              "      <td>2</td>\n",
              "    </tr>\n",
              "    <tr>\n",
              "      <th>429</th>\n",
              "      <td>1.542500</td>\n",
              "      <td>25.7</td>\n",
              "      <td>32.0</td>\n",
              "      <td>1</td>\n",
              "      <td>387</td>\n",
              "      <td>1</td>\n",
              "    </tr>\n",
              "  </tbody>\n",
              "</table>\n",
              "<p>430 rows × 6 columns</p>\n",
              "</div>\n",
              "      <button class=\"colab-df-convert\" onclick=\"convertToInteractive('df-f77c1d4a-69bd-4633-b6bb-5a9a5d6f30a0')\"\n",
              "              title=\"Convert this dataframe to an interactive table.\"\n",
              "              style=\"display:none;\">\n",
              "        \n",
              "  <svg xmlns=\"http://www.w3.org/2000/svg\" height=\"24px\"viewBox=\"0 0 24 24\"\n",
              "       width=\"24px\">\n",
              "    <path d=\"M0 0h24v24H0V0z\" fill=\"none\"/>\n",
              "    <path d=\"M18.56 5.44l.94 2.06.94-2.06 2.06-.94-2.06-.94-.94-2.06-.94 2.06-2.06.94zm-11 1L8.5 8.5l.94-2.06 2.06-.94-2.06-.94L8.5 2.5l-.94 2.06-2.06.94zm10 10l.94 2.06.94-2.06 2.06-.94-2.06-.94-.94-2.06-.94 2.06-2.06.94z\"/><path d=\"M17.41 7.96l-1.37-1.37c-.4-.4-.92-.59-1.43-.59-.52 0-1.04.2-1.43.59L10.3 9.45l-7.72 7.72c-.78.78-.78 2.05 0 2.83L4 21.41c.39.39.9.59 1.41.59.51 0 1.02-.2 1.41-.59l7.78-7.78 2.81-2.81c.8-.78.8-2.07 0-2.86zM5.41 20L4 18.59l7.72-7.72 1.47 1.35L5.41 20z\"/>\n",
              "  </svg>\n",
              "      </button>\n",
              "      \n",
              "  <style>\n",
              "    .colab-df-container {\n",
              "      display:flex;\n",
              "      flex-wrap:wrap;\n",
              "      gap: 12px;\n",
              "    }\n",
              "\n",
              "    .colab-df-convert {\n",
              "      background-color: #E8F0FE;\n",
              "      border: none;\n",
              "      border-radius: 50%;\n",
              "      cursor: pointer;\n",
              "      display: none;\n",
              "      fill: #1967D2;\n",
              "      height: 32px;\n",
              "      padding: 0 0 0 0;\n",
              "      width: 32px;\n",
              "    }\n",
              "\n",
              "    .colab-df-convert:hover {\n",
              "      background-color: #E2EBFA;\n",
              "      box-shadow: 0px 1px 2px rgba(60, 64, 67, 0.3), 0px 1px 3px 1px rgba(60, 64, 67, 0.15);\n",
              "      fill: #174EA6;\n",
              "    }\n",
              "\n",
              "    [theme=dark] .colab-df-convert {\n",
              "      background-color: #3B4455;\n",
              "      fill: #D2E3FC;\n",
              "    }\n",
              "\n",
              "    [theme=dark] .colab-df-convert:hover {\n",
              "      background-color: #434B5C;\n",
              "      box-shadow: 0px 1px 3px 1px rgba(0, 0, 0, 0.15);\n",
              "      filter: drop-shadow(0px 1px 2px rgba(0, 0, 0, 0.3));\n",
              "      fill: #FFFFFF;\n",
              "    }\n",
              "  </style>\n",
              "\n",
              "      <script>\n",
              "        const buttonEl =\n",
              "          document.querySelector('#df-f77c1d4a-69bd-4633-b6bb-5a9a5d6f30a0 button.colab-df-convert');\n",
              "        buttonEl.style.display =\n",
              "          google.colab.kernel.accessAllowed ? 'block' : 'none';\n",
              "\n",
              "        async function convertToInteractive(key) {\n",
              "          const element = document.querySelector('#df-f77c1d4a-69bd-4633-b6bb-5a9a5d6f30a0');\n",
              "          const dataTable =\n",
              "            await google.colab.kernel.invokeFunction('convertToInteractive',\n",
              "                                                     [key], {});\n",
              "          if (!dataTable) return;\n",
              "\n",
              "          const docLinkHtml = 'Like what you see? Visit the ' +\n",
              "            '<a target=\"_blank\" href=https://colab.research.google.com/notebooks/data_table.ipynb>data table notebook</a>'\n",
              "            + ' to learn more about interactive tables.';\n",
              "          element.innerHTML = '';\n",
              "          dataTable['output_type'] = 'display_data';\n",
              "          await google.colab.output.renderOutput(dataTable, element);\n",
              "          const docLink = document.createElement('div');\n",
              "          docLink.innerHTML = docLinkHtml;\n",
              "          element.appendChild(docLink);\n",
              "        }\n",
              "      </script>\n",
              "    </div>\n",
              "  </div>\n",
              "  "
            ]
          },
          "metadata": {},
          "execution_count": 7
        }
      ],
      "source": [
        "dt"
      ]
    },
    {
      "cell_type": "code",
      "execution_count": 8,
      "id": "0a5843c8",
      "metadata": {
        "colab": {
          "base_uri": "https://localhost:8080/"
        },
        "id": "0a5843c8",
        "outputId": "2b85ed17-63af-4063-d3e6-f8b97ad9d97c"
      },
      "outputs": [
        {
          "output_type": "execute_result",
          "data": {
            "text/plain": [
              "(430, 6)"
            ]
          },
          "metadata": {},
          "execution_count": 8
        }
      ],
      "source": [
        "dt.shape"
      ]
    },
    {
      "cell_type": "code",
      "execution_count": 10,
      "id": "f0157c3a",
      "metadata": {
        "id": "f0157c3a"
      },
      "outputs": [],
      "source": [
        "dt[\"SIZE\"] = dt[\"HEIGHT\"]*dt[\"WIDTH\"]"
      ]
    },
    {
      "cell_type": "code",
      "execution_count": 11,
      "id": "23828d6c",
      "metadata": {
        "colab": {
          "base_uri": "https://localhost:8080/",
          "height": 424
        },
        "id": "23828d6c",
        "outputId": "6d2d5363-d1ee-4d56-d2eb-bf6dc87f20c3"
      },
      "outputs": [
        {
          "output_type": "execute_result",
          "data": {
            "text/plain": [
              "        PRICE  HEIGHT  WIDTH  SIGNED  PICTURE  HOUSE      SIZE\n",
              "0    3.993780    21.3   25.6       1        1       1   545.28\n",
              "1    8.800000    31.9   25.6       1        2       2   816.64\n",
              "2    0.131694     6.9   15.9       0        3       3   109.71\n",
              "3    2.037500    25.7   32.0       1        4       2   822.40\n",
              "4    1.487500    25.7   32.0       1        4       2   822.40\n",
              "..        ...     ...    ...     ...      ...     ...      ...\n",
              "425  5.282500    25.6   39.4       1      375       1  1008.64\n",
              "426  9.352500    25.9   39.6       1      375       2  1025.64\n",
              "427  8.252500    25.6   39.6       1      375       1  1013.76\n",
              "428  3.410000    25.6   39.4       1      386       2  1008.64\n",
              "429  1.542500    25.7   32.0       1      387       1   822.40\n",
              "\n",
              "[430 rows x 7 columns]"
            ],
            "text/html": [
              "\n",
              "  <div id=\"df-fd6d1502-605c-45d3-815c-2251b6855812\">\n",
              "    <div class=\"colab-df-container\">\n",
              "      <div>\n",
              "<style scoped>\n",
              "    .dataframe tbody tr th:only-of-type {\n",
              "        vertical-align: middle;\n",
              "    }\n",
              "\n",
              "    .dataframe tbody tr th {\n",
              "        vertical-align: top;\n",
              "    }\n",
              "\n",
              "    .dataframe thead th {\n",
              "        text-align: right;\n",
              "    }\n",
              "</style>\n",
              "<table border=\"1\" class=\"dataframe\">\n",
              "  <thead>\n",
              "    <tr style=\"text-align: right;\">\n",
              "      <th></th>\n",
              "      <th>PRICE</th>\n",
              "      <th>HEIGHT</th>\n",
              "      <th>WIDTH</th>\n",
              "      <th>SIGNED</th>\n",
              "      <th>PICTURE</th>\n",
              "      <th>HOUSE</th>\n",
              "      <th>SIZE</th>\n",
              "    </tr>\n",
              "  </thead>\n",
              "  <tbody>\n",
              "    <tr>\n",
              "      <th>0</th>\n",
              "      <td>3.993780</td>\n",
              "      <td>21.3</td>\n",
              "      <td>25.6</td>\n",
              "      <td>1</td>\n",
              "      <td>1</td>\n",
              "      <td>1</td>\n",
              "      <td>545.28</td>\n",
              "    </tr>\n",
              "    <tr>\n",
              "      <th>1</th>\n",
              "      <td>8.800000</td>\n",
              "      <td>31.9</td>\n",
              "      <td>25.6</td>\n",
              "      <td>1</td>\n",
              "      <td>2</td>\n",
              "      <td>2</td>\n",
              "      <td>816.64</td>\n",
              "    </tr>\n",
              "    <tr>\n",
              "      <th>2</th>\n",
              "      <td>0.131694</td>\n",
              "      <td>6.9</td>\n",
              "      <td>15.9</td>\n",
              "      <td>0</td>\n",
              "      <td>3</td>\n",
              "      <td>3</td>\n",
              "      <td>109.71</td>\n",
              "    </tr>\n",
              "    <tr>\n",
              "      <th>3</th>\n",
              "      <td>2.037500</td>\n",
              "      <td>25.7</td>\n",
              "      <td>32.0</td>\n",
              "      <td>1</td>\n",
              "      <td>4</td>\n",
              "      <td>2</td>\n",
              "      <td>822.40</td>\n",
              "    </tr>\n",
              "    <tr>\n",
              "      <th>4</th>\n",
              "      <td>1.487500</td>\n",
              "      <td>25.7</td>\n",
              "      <td>32.0</td>\n",
              "      <td>1</td>\n",
              "      <td>4</td>\n",
              "      <td>2</td>\n",
              "      <td>822.40</td>\n",
              "    </tr>\n",
              "    <tr>\n",
              "      <th>...</th>\n",
              "      <td>...</td>\n",
              "      <td>...</td>\n",
              "      <td>...</td>\n",
              "      <td>...</td>\n",
              "      <td>...</td>\n",
              "      <td>...</td>\n",
              "      <td>...</td>\n",
              "    </tr>\n",
              "    <tr>\n",
              "      <th>425</th>\n",
              "      <td>5.282500</td>\n",
              "      <td>25.6</td>\n",
              "      <td>39.4</td>\n",
              "      <td>1</td>\n",
              "      <td>375</td>\n",
              "      <td>1</td>\n",
              "      <td>1008.64</td>\n",
              "    </tr>\n",
              "    <tr>\n",
              "      <th>426</th>\n",
              "      <td>9.352500</td>\n",
              "      <td>25.9</td>\n",
              "      <td>39.6</td>\n",
              "      <td>1</td>\n",
              "      <td>375</td>\n",
              "      <td>2</td>\n",
              "      <td>1025.64</td>\n",
              "    </tr>\n",
              "    <tr>\n",
              "      <th>427</th>\n",
              "      <td>8.252500</td>\n",
              "      <td>25.6</td>\n",
              "      <td>39.6</td>\n",
              "      <td>1</td>\n",
              "      <td>375</td>\n",
              "      <td>1</td>\n",
              "      <td>1013.76</td>\n",
              "    </tr>\n",
              "    <tr>\n",
              "      <th>428</th>\n",
              "      <td>3.410000</td>\n",
              "      <td>25.6</td>\n",
              "      <td>39.4</td>\n",
              "      <td>1</td>\n",
              "      <td>386</td>\n",
              "      <td>2</td>\n",
              "      <td>1008.64</td>\n",
              "    </tr>\n",
              "    <tr>\n",
              "      <th>429</th>\n",
              "      <td>1.542500</td>\n",
              "      <td>25.7</td>\n",
              "      <td>32.0</td>\n",
              "      <td>1</td>\n",
              "      <td>387</td>\n",
              "      <td>1</td>\n",
              "      <td>822.40</td>\n",
              "    </tr>\n",
              "  </tbody>\n",
              "</table>\n",
              "<p>430 rows × 7 columns</p>\n",
              "</div>\n",
              "      <button class=\"colab-df-convert\" onclick=\"convertToInteractive('df-fd6d1502-605c-45d3-815c-2251b6855812')\"\n",
              "              title=\"Convert this dataframe to an interactive table.\"\n",
              "              style=\"display:none;\">\n",
              "        \n",
              "  <svg xmlns=\"http://www.w3.org/2000/svg\" height=\"24px\"viewBox=\"0 0 24 24\"\n",
              "       width=\"24px\">\n",
              "    <path d=\"M0 0h24v24H0V0z\" fill=\"none\"/>\n",
              "    <path d=\"M18.56 5.44l.94 2.06.94-2.06 2.06-.94-2.06-.94-.94-2.06-.94 2.06-2.06.94zm-11 1L8.5 8.5l.94-2.06 2.06-.94-2.06-.94L8.5 2.5l-.94 2.06-2.06.94zm10 10l.94 2.06.94-2.06 2.06-.94-2.06-.94-.94-2.06-.94 2.06-2.06.94z\"/><path d=\"M17.41 7.96l-1.37-1.37c-.4-.4-.92-.59-1.43-.59-.52 0-1.04.2-1.43.59L10.3 9.45l-7.72 7.72c-.78.78-.78 2.05 0 2.83L4 21.41c.39.39.9.59 1.41.59.51 0 1.02-.2 1.41-.59l7.78-7.78 2.81-2.81c.8-.78.8-2.07 0-2.86zM5.41 20L4 18.59l7.72-7.72 1.47 1.35L5.41 20z\"/>\n",
              "  </svg>\n",
              "      </button>\n",
              "      \n",
              "  <style>\n",
              "    .colab-df-container {\n",
              "      display:flex;\n",
              "      flex-wrap:wrap;\n",
              "      gap: 12px;\n",
              "    }\n",
              "\n",
              "    .colab-df-convert {\n",
              "      background-color: #E8F0FE;\n",
              "      border: none;\n",
              "      border-radius: 50%;\n",
              "      cursor: pointer;\n",
              "      display: none;\n",
              "      fill: #1967D2;\n",
              "      height: 32px;\n",
              "      padding: 0 0 0 0;\n",
              "      width: 32px;\n",
              "    }\n",
              "\n",
              "    .colab-df-convert:hover {\n",
              "      background-color: #E2EBFA;\n",
              "      box-shadow: 0px 1px 2px rgba(60, 64, 67, 0.3), 0px 1px 3px 1px rgba(60, 64, 67, 0.15);\n",
              "      fill: #174EA6;\n",
              "    }\n",
              "\n",
              "    [theme=dark] .colab-df-convert {\n",
              "      background-color: #3B4455;\n",
              "      fill: #D2E3FC;\n",
              "    }\n",
              "\n",
              "    [theme=dark] .colab-df-convert:hover {\n",
              "      background-color: #434B5C;\n",
              "      box-shadow: 0px 1px 3px 1px rgba(0, 0, 0, 0.15);\n",
              "      filter: drop-shadow(0px 1px 2px rgba(0, 0, 0, 0.3));\n",
              "      fill: #FFFFFF;\n",
              "    }\n",
              "  </style>\n",
              "\n",
              "      <script>\n",
              "        const buttonEl =\n",
              "          document.querySelector('#df-fd6d1502-605c-45d3-815c-2251b6855812 button.colab-df-convert');\n",
              "        buttonEl.style.display =\n",
              "          google.colab.kernel.accessAllowed ? 'block' : 'none';\n",
              "\n",
              "        async function convertToInteractive(key) {\n",
              "          const element = document.querySelector('#df-fd6d1502-605c-45d3-815c-2251b6855812');\n",
              "          const dataTable =\n",
              "            await google.colab.kernel.invokeFunction('convertToInteractive',\n",
              "                                                     [key], {});\n",
              "          if (!dataTable) return;\n",
              "\n",
              "          const docLinkHtml = 'Like what you see? Visit the ' +\n",
              "            '<a target=\"_blank\" href=https://colab.research.google.com/notebooks/data_table.ipynb>data table notebook</a>'\n",
              "            + ' to learn more about interactive tables.';\n",
              "          element.innerHTML = '';\n",
              "          dataTable['output_type'] = 'display_data';\n",
              "          await google.colab.output.renderOutput(dataTable, element);\n",
              "          const docLink = document.createElement('div');\n",
              "          docLink.innerHTML = docLinkHtml;\n",
              "          element.appendChild(docLink);\n",
              "        }\n",
              "      </script>\n",
              "    </div>\n",
              "  </div>\n",
              "  "
            ]
          },
          "metadata": {},
          "execution_count": 11
        }
      ],
      "source": [
        "dt"
      ]
    },
    {
      "cell_type": "code",
      "execution_count": 12,
      "id": "df828568",
      "metadata": {
        "colab": {
          "base_uri": "https://localhost:8080/"
        },
        "id": "df828568",
        "outputId": "260462e7-c2b5-4883-b149-a07e83ce23ec"
      },
      "outputs": [
        {
          "output_type": "execute_result",
          "data": {
            "text/plain": [
              "(430, 7)"
            ]
          },
          "metadata": {},
          "execution_count": 12
        }
      ],
      "source": [
        "dt.shape"
      ]
    },
    {
      "cell_type": "code",
      "execution_count": 14,
      "id": "57a5b4bb",
      "metadata": {
        "id": "57a5b4bb"
      },
      "outputs": [],
      "source": [
        "from sklearn.model_selection import train_test_split\n",
        "train,test = train_test_split(dt, test_size=0.10, random_state=42)"
      ]
    },
    {
      "cell_type": "code",
      "execution_count": 29,
      "id": "506f0c98",
      "metadata": {
        "id": "506f0c98"
      },
      "outputs": [],
      "source": [
        "train_y = train[\"PRICE\"]\n",
        "del train[\"PRICE\"]\n",
        "\n",
        "test_y = test[\"PRICE\"]\n",
        "del test[\"PRICE\"]"
      ]
    },
    {
      "cell_type": "code",
      "execution_count": 15,
      "id": "795b706c",
      "metadata": {
        "colab": {
          "base_uri": "https://localhost:8080/",
          "height": 206
        },
        "id": "795b706c",
        "outputId": "3d6ed589-9a40-412c-d07a-01a27e29bd9a"
      },
      "outputs": [
        {
          "output_type": "execute_result",
          "data": {
            "text/plain": [
              "        PRICE  HEIGHT  WIDTH  SIGNED  PICTURE  HOUSE      SIZE\n",
              "73   0.775750    23.5   32.0       1       61       2   752.00\n",
              "33   4.488000    28.7   36.2       1       26       2  1038.94\n",
              "116  3.114680    25.2   39.0       1       96       2   982.80\n",
              "297  0.219005    18.1   21.7       1      252       2   392.77\n",
              "76   2.247500    21.3   31.9       1       63       1   679.47"
            ],
            "text/html": [
              "\n",
              "  <div id=\"df-5b549ea2-9932-40a4-af29-1a826f246474\">\n",
              "    <div class=\"colab-df-container\">\n",
              "      <div>\n",
              "<style scoped>\n",
              "    .dataframe tbody tr th:only-of-type {\n",
              "        vertical-align: middle;\n",
              "    }\n",
              "\n",
              "    .dataframe tbody tr th {\n",
              "        vertical-align: top;\n",
              "    }\n",
              "\n",
              "    .dataframe thead th {\n",
              "        text-align: right;\n",
              "    }\n",
              "</style>\n",
              "<table border=\"1\" class=\"dataframe\">\n",
              "  <thead>\n",
              "    <tr style=\"text-align: right;\">\n",
              "      <th></th>\n",
              "      <th>PRICE</th>\n",
              "      <th>HEIGHT</th>\n",
              "      <th>WIDTH</th>\n",
              "      <th>SIGNED</th>\n",
              "      <th>PICTURE</th>\n",
              "      <th>HOUSE</th>\n",
              "      <th>SIZE</th>\n",
              "    </tr>\n",
              "  </thead>\n",
              "  <tbody>\n",
              "    <tr>\n",
              "      <th>73</th>\n",
              "      <td>0.775750</td>\n",
              "      <td>23.5</td>\n",
              "      <td>32.0</td>\n",
              "      <td>1</td>\n",
              "      <td>61</td>\n",
              "      <td>2</td>\n",
              "      <td>752.00</td>\n",
              "    </tr>\n",
              "    <tr>\n",
              "      <th>33</th>\n",
              "      <td>4.488000</td>\n",
              "      <td>28.7</td>\n",
              "      <td>36.2</td>\n",
              "      <td>1</td>\n",
              "      <td>26</td>\n",
              "      <td>2</td>\n",
              "      <td>1038.94</td>\n",
              "    </tr>\n",
              "    <tr>\n",
              "      <th>116</th>\n",
              "      <td>3.114680</td>\n",
              "      <td>25.2</td>\n",
              "      <td>39.0</td>\n",
              "      <td>1</td>\n",
              "      <td>96</td>\n",
              "      <td>2</td>\n",
              "      <td>982.80</td>\n",
              "    </tr>\n",
              "    <tr>\n",
              "      <th>297</th>\n",
              "      <td>0.219005</td>\n",
              "      <td>18.1</td>\n",
              "      <td>21.7</td>\n",
              "      <td>1</td>\n",
              "      <td>252</td>\n",
              "      <td>2</td>\n",
              "      <td>392.77</td>\n",
              "    </tr>\n",
              "    <tr>\n",
              "      <th>76</th>\n",
              "      <td>2.247500</td>\n",
              "      <td>21.3</td>\n",
              "      <td>31.9</td>\n",
              "      <td>1</td>\n",
              "      <td>63</td>\n",
              "      <td>1</td>\n",
              "      <td>679.47</td>\n",
              "    </tr>\n",
              "  </tbody>\n",
              "</table>\n",
              "</div>\n",
              "      <button class=\"colab-df-convert\" onclick=\"convertToInteractive('df-5b549ea2-9932-40a4-af29-1a826f246474')\"\n",
              "              title=\"Convert this dataframe to an interactive table.\"\n",
              "              style=\"display:none;\">\n",
              "        \n",
              "  <svg xmlns=\"http://www.w3.org/2000/svg\" height=\"24px\"viewBox=\"0 0 24 24\"\n",
              "       width=\"24px\">\n",
              "    <path d=\"M0 0h24v24H0V0z\" fill=\"none\"/>\n",
              "    <path d=\"M18.56 5.44l.94 2.06.94-2.06 2.06-.94-2.06-.94-.94-2.06-.94 2.06-2.06.94zm-11 1L8.5 8.5l.94-2.06 2.06-.94-2.06-.94L8.5 2.5l-.94 2.06-2.06.94zm10 10l.94 2.06.94-2.06 2.06-.94-2.06-.94-.94-2.06-.94 2.06-2.06.94z\"/><path d=\"M17.41 7.96l-1.37-1.37c-.4-.4-.92-.59-1.43-.59-.52 0-1.04.2-1.43.59L10.3 9.45l-7.72 7.72c-.78.78-.78 2.05 0 2.83L4 21.41c.39.39.9.59 1.41.59.51 0 1.02-.2 1.41-.59l7.78-7.78 2.81-2.81c.8-.78.8-2.07 0-2.86zM5.41 20L4 18.59l7.72-7.72 1.47 1.35L5.41 20z\"/>\n",
              "  </svg>\n",
              "      </button>\n",
              "      \n",
              "  <style>\n",
              "    .colab-df-container {\n",
              "      display:flex;\n",
              "      flex-wrap:wrap;\n",
              "      gap: 12px;\n",
              "    }\n",
              "\n",
              "    .colab-df-convert {\n",
              "      background-color: #E8F0FE;\n",
              "      border: none;\n",
              "      border-radius: 50%;\n",
              "      cursor: pointer;\n",
              "      display: none;\n",
              "      fill: #1967D2;\n",
              "      height: 32px;\n",
              "      padding: 0 0 0 0;\n",
              "      width: 32px;\n",
              "    }\n",
              "\n",
              "    .colab-df-convert:hover {\n",
              "      background-color: #E2EBFA;\n",
              "      box-shadow: 0px 1px 2px rgba(60, 64, 67, 0.3), 0px 1px 3px 1px rgba(60, 64, 67, 0.15);\n",
              "      fill: #174EA6;\n",
              "    }\n",
              "\n",
              "    [theme=dark] .colab-df-convert {\n",
              "      background-color: #3B4455;\n",
              "      fill: #D2E3FC;\n",
              "    }\n",
              "\n",
              "    [theme=dark] .colab-df-convert:hover {\n",
              "      background-color: #434B5C;\n",
              "      box-shadow: 0px 1px 3px 1px rgba(0, 0, 0, 0.15);\n",
              "      filter: drop-shadow(0px 1px 2px rgba(0, 0, 0, 0.3));\n",
              "      fill: #FFFFFF;\n",
              "    }\n",
              "  </style>\n",
              "\n",
              "      <script>\n",
              "        const buttonEl =\n",
              "          document.querySelector('#df-5b549ea2-9932-40a4-af29-1a826f246474 button.colab-df-convert');\n",
              "        buttonEl.style.display =\n",
              "          google.colab.kernel.accessAllowed ? 'block' : 'none';\n",
              "\n",
              "        async function convertToInteractive(key) {\n",
              "          const element = document.querySelector('#df-5b549ea2-9932-40a4-af29-1a826f246474');\n",
              "          const dataTable =\n",
              "            await google.colab.kernel.invokeFunction('convertToInteractive',\n",
              "                                                     [key], {});\n",
              "          if (!dataTable) return;\n",
              "\n",
              "          const docLinkHtml = 'Like what you see? Visit the ' +\n",
              "            '<a target=\"_blank\" href=https://colab.research.google.com/notebooks/data_table.ipynb>data table notebook</a>'\n",
              "            + ' to learn more about interactive tables.';\n",
              "          element.innerHTML = '';\n",
              "          dataTable['output_type'] = 'display_data';\n",
              "          await google.colab.output.renderOutput(dataTable, element);\n",
              "          const docLink = document.createElement('div');\n",
              "          docLink.innerHTML = docLinkHtml;\n",
              "          element.appendChild(docLink);\n",
              "        }\n",
              "      </script>\n",
              "    </div>\n",
              "  </div>\n",
              "  "
            ]
          },
          "metadata": {},
          "execution_count": 15
        }
      ],
      "source": [
        "train.head()"
      ]
    },
    {
      "cell_type": "code",
      "execution_count": 16,
      "id": "93ec07db",
      "metadata": {
        "colab": {
          "base_uri": "https://localhost:8080/"
        },
        "id": "93ec07db",
        "outputId": "7fc401b4-dc52-4ed6-aff0-745c9803ac7b"
      },
      "outputs": [
        {
          "output_type": "execute_result",
          "data": {
            "text/plain": [
              "(387, 7)"
            ]
          },
          "metadata": {},
          "execution_count": 16
        }
      ],
      "source": [
        "train.shape"
      ]
    },
    {
      "cell_type": "code",
      "execution_count": 17,
      "id": "d7b8f9fe",
      "metadata": {
        "colab": {
          "base_uri": "https://localhost:8080/"
        },
        "id": "d7b8f9fe",
        "outputId": "3cf54c43-0a61-4510-d3cf-446dbf4e5487"
      },
      "outputs": [
        {
          "output_type": "execute_result",
          "data": {
            "text/plain": [
              "(43, 7)"
            ]
          },
          "metadata": {},
          "execution_count": 17
        }
      ],
      "source": [
        "test.shape"
      ]
    },
    {
      "cell_type": "code",
      "execution_count": 19,
      "id": "4eca8107",
      "metadata": {
        "colab": {
          "base_uri": "https://localhost:8080/"
        },
        "id": "4eca8107",
        "outputId": "d029c63f-7853-4181-c782-2d2c73d393fa"
      },
      "outputs": [
        {
          "output_type": "execute_result",
          "data": {
            "text/plain": [
              "StandardScaler()"
            ]
          },
          "metadata": {},
          "execution_count": 19
        }
      ],
      "source": [
        "from sklearn.preprocessing import StandardScaler\n",
        "sc = StandardScaler()\n",
        "sc.fit(train)"
      ]
    },
    {
      "cell_type": "code",
      "execution_count": 20,
      "id": "3280f9be",
      "metadata": {
        "colab": {
          "base_uri": "https://localhost:8080/"
        },
        "id": "3280f9be",
        "outputId": "5be0bf76-f48c-4ca7-b169-b24678d2ceb4"
      },
      "outputs": [
        {
          "output_type": "execute_result",
          "data": {
            "text/plain": [
              "StandardScaler()"
            ]
          },
          "metadata": {},
          "execution_count": 20
        }
      ],
      "source": [
        "from sklearn.preprocessing import StandardScaler\n",
        "sc = StandardScaler()\n",
        "sc.fit(test)"
      ]
    },
    {
      "cell_type": "code",
      "execution_count": 21,
      "id": "99743a7a",
      "metadata": {
        "id": "99743a7a"
      },
      "outputs": [],
      "source": [
        "train_new = sc.transform(train)\n",
        "test_new = sc.transform(test)"
      ]
    },
    {
      "cell_type": "code",
      "execution_count": 22,
      "id": "e37489a3",
      "metadata": {
        "colab": {
          "base_uri": "https://localhost:8080/"
        },
        "id": "e37489a3",
        "outputId": "535b402e-3902-4cfd-ebbd-fdadc8880555"
      },
      "outputs": [
        {
          "output_type": "execute_result",
          "data": {
            "text/plain": [
              "(387, 7)"
            ]
          },
          "metadata": {},
          "execution_count": 22
        }
      ],
      "source": [
        "train_new.shape"
      ]
    },
    {
      "cell_type": "code",
      "execution_count": 24,
      "id": "fc2020d6",
      "metadata": {
        "id": "fc2020d6"
      },
      "outputs": [],
      "source": [
        "tr= (np.array(train_new[:,-1]))"
      ]
    },
    {
      "cell_type": "code",
      "execution_count": 25,
      "id": "8ce7991d",
      "metadata": {
        "id": "8ce7991d"
      },
      "outputs": [],
      "source": [
        "tr1=(np.array(test_new[:,-1]))\n",
        "tr1=tr1.reshape(-1,1)"
      ]
    },
    {
      "cell_type": "code",
      "execution_count": 26,
      "id": "ad9e76ec",
      "metadata": {
        "scrolled": true,
        "colab": {
          "base_uri": "https://localhost:8080/"
        },
        "id": "ad9e76ec",
        "outputId": "4a3ba1b8-07b3-4793-964d-ff03afba99a3"
      },
      "outputs": [
        {
          "output_type": "stream",
          "name": "stdout",
          "text": [
            "[-4.29647301e-01  1.55582086e-02 -7.15465427e-02 -9.87015306e-01\n",
            " -5.42182171e-01 -1.18215539e+00 -6.06525492e-01 -2.36694917e-01\n",
            "  3.64752995e-01  1.06660941e-03 -7.50386421e-01 -7.35770697e-01\n",
            " -6.21373951e-01 -8.50617396e-01 -1.23989375e-01  1.55582086e-02\n",
            " -4.98303968e-01 -8.13038538e-01 -1.54289381e+00 -8.62843713e-01\n",
            " -4.28343988e-01 -3.21410261e-01  5.43182749e-01 -1.64174858e-01\n",
            " -2.08642656e-01  4.59067824e-02 -5.45518032e-01 -1.24423812e-01\n",
            " -7.94885250e-01 -5.34532965e-01 -1.60218373e-01 -6.41327052e-01\n",
            " -2.35101498e-02 -2.85351935e-01 -5.71149854e-01  2.00111946e-02\n",
            " -5.22384227e-01 -4.62540439e-01 -3.29354264e-01 -3.32379812e-01\n",
            " -1.53717323e-01 -6.06727195e-01 -3.14541527e-02 -4.38242961e-01\n",
            " -1.53717323e-01  4.59067824e-02 -7.32434836e-01 -4.12362889e-01\n",
            "  4.08351918e-01 -1.54586199e-01 -8.41276986e-01 -9.05232416e-01\n",
            " -7.19184487e-01  8.01347799e+00 -1.25926808e+00 -3.29354264e-01\n",
            " -4.42990744e-01  3.28200190e+00  3.09848302e+00  3.69407684e-01\n",
            " -3.30347264e-01 -1.72087830e-01 -4.79607632e-01 -4.28343988e-01\n",
            " -1.12217702e-02 -3.20417261e-01 -1.58558200e-01  3.91874318e-01\n",
            " -3.42216722e-01 -6.32359018e-01 -2.53409942e-02 -4.28343988e-01\n",
            " -7.50386421e-01 -1.25540938e-01 -8.69174090e-01 -1.44966508e-01\n",
            " -7.63719039e-02 -5.35572513e-01 -1.56261887e-01  6.89898554e-01\n",
            " -2.12738783e-01 -3.29354264e-01 -7.43078559e-01 -1.09720732e+00\n",
            " -3.29354264e-01 -6.47936711e-01 -7.52806859e-01  1.58053762e-01\n",
            " -4.38336055e-01  8.61315243e-01  8.12161725e-01 -4.28343988e-01\n",
            "  6.39893697e+00  3.91874318e-01  1.55582086e-02 -1.14175269e+00\n",
            " -5.12811082e-01 -3.45242270e-01 -1.30195627e-01 -1.27571465e+00\n",
            " -6.05454914e-01  1.55582086e-02 -4.21020611e-01 -4.50189996e-01\n",
            " -1.58558200e-01 -9.91313136e-01 -4.54472311e-01 -5.35572513e-01\n",
            " -3.14541527e-02 -5.16224521e-01 -8.28011122e-01  1.72824642e-01\n",
            "  7.06103548e+00 -5.45518032e-01 -9.03804978e-01 -3.14541527e-02\n",
            " -5.45518032e-01 -3.50129694e-01  4.59608273e+00 -2.64421349e-01\n",
            "  3.22684383e+00  2.15089221e-01  8.24403557e-01 -3.64791965e-01\n",
            " -2.07773781e-01 -3.11449226e-01 -3.14541527e-02  3.59787993e-01\n",
            "  8.12161725e-01 -1.87913774e-01 -7.41511480e-01  3.75179499e-01\n",
            " -8.62843713e-01 -2.86546639e-01 -1.50614197e-01 -8.48569333e-01\n",
            " -1.25408586e+00 -5.48559096e-01 -2.23289412e-01 -5.49971018e-01\n",
            "  1.55582086e-02 -1.33544983e+00  3.40775608e+00  1.95291276e-01\n",
            " -9.48303807e-01 -1.13945638e+00 -7.19618925e-01  3.21463303e+00\n",
            "  3.12755426e-02 -9.91313136e-01 -7.43993981e-01 -1.42620075e+00\n",
            " -3.30347264e-01 -8.04163597e-01  2.32792555e-01 -6.21218795e-01\n",
            " -5.45518032e-01 -6.32359018e-01  1.39784576e+00  2.26446662e-01\n",
            " -5.12811082e-01 -1.08550853e+00 -8.04163597e-01 -4.63781689e-01\n",
            "  2.21678673e-02 -5.38194654e-01 -6.34717393e-01  1.55582086e-02\n",
            " -3.24404778e-01 -4.28343988e-01  1.18397830e+00 -1.43007966e+00\n",
            " -2.53409942e-02 -1.05002428e+00 -1.46393946e-01 -1.50614197e-01\n",
            "  3.74838155e-01 -4.39329055e-01 -1.07095487e+00  2.60472441e-01\n",
            "  2.73831399e-01 -4.06079058e-01 -6.34717393e-01 -5.15324615e-01\n",
            " -1.31312752e-01  3.05677700e+00  3.69407684e-01 -7.43078559e-01\n",
            " -9.78590319e-01  4.40376180e-01 -1.25926808e+00 -4.28343988e-01\n",
            "  3.88150566e-01 -3.22434293e-01 -3.09556319e-01 -3.14541527e-02\n",
            " -4.09787294e-01 -3.20417261e-01 -1.58558200e-01  1.18397830e+00\n",
            " -3.29354264e-01 -9.82003757e-01 -5.68620806e-01 -5.30871277e-01\n",
            " -6.65748655e-01 -3.38260236e-01 -6.11025025e-01  1.20026971e+00\n",
            "  2.00111946e-02 -1.14189233e+00 -8.13938445e-01  1.55582086e-02\n",
            "  6.26636636e-02  1.55582086e-02  2.10837938e-01 -3.59904541e-01\n",
            "  1.55582086e-02  3.26347623e+00 -1.34105566e-01 -8.13938445e-01\n",
            "  2.10837938e-01 -5.39032498e-01 -5.16224521e-01 -5.94081956e-01\n",
            "  3.69407684e-01 -1.25926808e+00 -1.60218373e-01  6.74424779e-02\n",
            " -7.73008211e-01 -3.29354264e-01 -4.28343988e-01 -5.30033432e-01\n",
            " -9.11748981e-01  1.55582086e-02 -5.30871277e-01 -4.13697233e-01\n",
            " -1.56902718e-02 -5.45518032e-01 -6.61295669e-01  3.53674835e-01\n",
            " -7.32264164e-01 -4.26001128e-01 -7.52108656e-01 -4.23441049e-01\n",
            " -3.18415744e-01 -5.45518032e-01  1.48194047e+00 -4.28343988e-01\n",
            " -7.34498415e-01 -3.14541527e-02  5.64904632e-01 -7.03249935e-01\n",
            " -6.65748655e-01 -4.28328473e-01  8.12161725e-01 -6.28247375e-01\n",
            "  3.80248419e-02  2.82380511e-01 -1.50614197e-01 -3.20417261e-01\n",
            "  8.74441467e-01  2.43575919e-01 -1.58558200e-01 -3.29354264e-01\n",
            " -3.86203535e-01 -6.30124767e-01 -7.52108656e-01 -4.97078233e-01\n",
            "  2.67915253e-02 -7.89609936e-01  1.58053762e-01 -7.43776762e-01\n",
            " -3.29354264e-01 -3.64791965e-01 -3.30347264e-01 -3.30347264e-01\n",
            " -4.26001128e-01 -8.33007155e-01 -7.34498415e-01 -4.24682299e-01\n",
            " -7.19184487e-01 -1.63884752e-02  3.69407684e-01  8.61315243e-01\n",
            " -3.09556319e-01  1.31469749e+00 -2.74320321e-01 -1.58558200e-01\n",
            " -1.45932662e+00 -5.05627345e-01 -1.55588039e+00 -8.40035736e-01\n",
            " -3.29354264e-01 -3.29354264e-01 -2.44721189e-02 -3.14541527e-02\n",
            "  3.21463303e+00 -1.58558200e-01 -1.26168852e+00  5.62016091e+00\n",
            " -5.36612060e-01  1.58053762e-01  3.12755426e-02 -5.85134128e-02\n",
            " -5.45518032e-01 -7.83807090e-01 -6.47936711e-01 -8.62843713e-01\n",
            "  1.55582086e-02 -5.31740152e-01 -2.73373868e-01 -6.28247375e-01\n",
            " -3.79997283e-01 -4.13697233e-01  3.21463303e+00 -1.53717323e-01\n",
            " -7.82007277e-01 -6.47936711e-01 -4.18445016e-01 -5.60309119e-02\n",
            " -3.29354264e-01 -4.40601337e-01 -1.17517336e+00 -4.50189996e-01\n",
            " -1.58558200e-01 -7.24925271e-01  5.15699876e-02 -1.53717323e-01\n",
            " -4.29647301e-01  3.69407684e-01 -4.03891354e-01 -1.28735137e+00\n",
            " -9.73004692e-01 -3.14541527e-02 -4.28343988e-01  2.00111946e-02\n",
            "  1.55582086e-02 -1.11466240e+00 -3.37298267e-01 -6.39030739e-01\n",
            " -4.08546043e-01  1.28898809e+00 -3.36108254e-02  4.08351918e-01\n",
            "  3.59787993e-01  1.55582086e-02 -5.60309119e-02 -3.14541527e-02\n",
            "  1.46189428e+00  4.59067824e-02 -7.21030848e-01 -2.35101498e-02\n",
            " -1.17706627e+00 -4.62540439e-01 -3.29354264e-01 -7.43776762e-01\n",
            "  3.97025507e-01 -4.47878167e-01 -4.28343988e-01 -2.85351935e-01\n",
            "  2.76531118e-01 -2.25373558e-03  1.55582086e-02 -8.97303929e-01\n",
            "  7.29990944e-01 -1.58558200e-01  5.67635383e-01  3.91564005e-01\n",
            " -3.11449226e-01 -2.92458094e-01 -4.19717298e-01 -1.32988441e-01\n",
            " -8.47948707e-01 -1.47324883e-01 -1.17051867e+00 -5.45518032e-01\n",
            " -2.66287915e-02  5.43182749e-01 -3.57189306e-01 -3.20417261e-01\n",
            " -6.36843035e-01 -4.51524341e-01 -5.48031564e-01 -1.40868360e+00\n",
            " -6.16657199e-01 -1.29386794e+00 -3.29354264e-01]\n"
          ]
        }
      ],
      "source": [
        "print(tr)"
      ]
    },
    {
      "cell_type": "code",
      "execution_count": 27,
      "id": "76eb61df",
      "metadata": {
        "colab": {
          "base_uri": "https://localhost:8080/"
        },
        "id": "76eb61df",
        "outputId": "40236841-778c-41d3-cae9-3fa744c02670"
      },
      "outputs": [
        {
          "output_type": "stream",
          "name": "stdout",
          "text": [
            "[[ 3.45610279]\n",
            " [ 1.20048693]\n",
            " [-0.1585582 ]\n",
            " [-0.14097899]\n",
            " [-0.13131275]\n",
            " [-0.45534119]\n",
            " [-0.33430375]\n",
            " [-0.46254044]\n",
            " [-0.1585582 ]\n",
            " [ 0.04590678]\n",
            " [-0.15371732]\n",
            " [-0.03145415]\n",
            " [-0.5949198 ]\n",
            " [-1.34272666]\n",
            " [-0.75038642]\n",
            " [-0.6166572 ]\n",
            " [-0.32041726]\n",
            " [-0.538536  ]\n",
            " [-0.1506142 ]\n",
            " [-0.1545862 ]\n",
            " [ 0.19529128]\n",
            " [ 1.20826026]\n",
            " [-0.31144923]\n",
            " [ 0.03127554]\n",
            " [-0.52922662]\n",
            " [-0.59628518]\n",
            " [ 0.2475324 ]\n",
            " [-0.99269403]\n",
            " [-0.30552225]\n",
            " [-0.97300469]\n",
            " [-0.1585582 ]\n",
            " [-0.23559331]\n",
            " [ 0.02446418]\n",
            " [ 0.02446418]\n",
            " [-0.03145415]\n",
            " [-0.54218217]\n",
            " [-0.42834399]\n",
            " [-0.18395729]\n",
            " [ 3.10793203]\n",
            " [-0.00507758]\n",
            " [ 3.21463303]\n",
            " [-0.31945529]\n",
            " [-0.64793671]]\n"
          ]
        }
      ],
      "source": [
        "print(tr1)"
      ]
    },
    {
      "cell_type": "code",
      "execution_count": 31,
      "id": "cb9a68dc",
      "metadata": {
        "colab": {
          "base_uri": "https://localhost:8080/"
        },
        "id": "cb9a68dc",
        "outputId": "23758680-4949-4c58-d08f-e159915483ea"
      },
      "outputs": [
        {
          "output_type": "execute_result",
          "data": {
            "text/plain": [
              "0.11613603940634198"
            ]
          },
          "metadata": {},
          "execution_count": 31
        }
      ],
      "source": [
        "from sklearn.linear_model import LinearRegression\n",
        "X = np.array(tr).reshape(-1,1)\n",
        "y = np.array(train_y)\n",
        "regressor = LinearRegression()\n",
        "model1 = regressor.fit(X,y)\n",
        "\n",
        "model1.score(X,y)"
      ]
    },
    {
      "cell_type": "code",
      "execution_count": 34,
      "id": "d83f911c",
      "metadata": {
        "colab": {
          "base_uri": "https://localhost:8080/",
          "height": 295
        },
        "id": "d83f911c",
        "outputId": "840be19b-3e6f-408b-ee92-12154565a96e"
      },
      "outputs": [
        {
          "output_type": "display_data",
          "data": {
            "text/plain": [
              "<Figure size 432x288 with 1 Axes>"
            ],
            "image/png": "[encoded data removed]"
          },
          "metadata": {
            "needs_background": "light"
          }
        }
      ],
      "source": [
        "plt.scatter(X, y, color='violet')\n",
        "plt.plot(X,regressor.predict(X), color='black')\n",
        "plt.title('Training set - Price VS Size ')\n",
        "plt.xlabel('Size')\n",
        "plt.ylabel('Price')\n",
        "plt.show()"
      ]
    },
    {
      "cell_type": "code",
      "execution_count": 35,
      "id": "c929a475",
      "metadata": {
        "colab": {
          "base_uri": "https://localhost:8080/"
        },
        "id": "c929a475",
        "outputId": "5d9d9246-32fe-4408-9758-9256cd006822"
      },
      "outputs": [
        {
          "output_type": "stream",
          "name": "stdout",
          "text": [
            "Intercept for model1 is = 3.2853337378271066\n",
            "coefficient for model1 is= [1.4031515]\n"
          ]
        }
      ],
      "source": [
        "print(\"Intercept for model1 is =\",model1.intercept_) \n",
        "print(\"coefficient for model1 is=\",model1.coef_)"
      ]
    },
    {
      "cell_type": "code",
      "execution_count": 37,
      "id": "b4ace494",
      "metadata": {
        "colab": {
          "base_uri": "https://localhost:8080/"
        },
        "id": "b4ace494",
        "outputId": "8a54a9d1-70e6-4c9e-9ed3-e9d9fba5adc0"
      },
      "outputs": [
        {
          "output_type": "stream",
          "name": "stdout",
          "text": [
            "Predicted price from monet dataset by the model1 is:\n",
            "  [8.13476956 4.96979878 3.06285256 3.08751886 3.10108205 2.64642107\n",
            " 2.81625493 2.63631943 3.06285256 3.34974791 3.06964504 3.2411988\n",
            " 2.45057113 1.40128481 2.2324279  2.42007026 2.83573978 2.52968614\n",
            " 3.0739992  3.06842588 3.55935698 4.98070594 2.84832329 3.32921806\n",
            " 2.54274861 2.4486553  3.6326592  1.89243362 2.85663973 1.92006074\n",
            " 3.06285256 2.95476063 3.31966069 3.31966069 3.2411988  2.52457001\n",
            " 2.68430223 3.02721379 7.64623324 3.27820912 7.7959509  2.83708957\n",
            " 2.37618037]\n"
          ]
        }
      ],
      "source": [
        "test_predicted = model1.predict(tr1)\n",
        "print(\"Predicted price from monet dataset by the model1 is:\\n \",test_predicted,sep=\" \")"
      ]
    },
    {
      "cell_type": "code",
      "execution_count": 39,
      "id": "75cfab99",
      "metadata": {
        "colab": {
          "base_uri": "https://localhost:8080/"
        },
        "id": "75cfab99",
        "outputId": "5b6b213a-98c7-4de6-e7e6-418b520ea2b4"
      },
      "outputs": [
        {
          "output_type": "stream",
          "name": "stdout",
          "text": [
            "prediction error of the model1 is : 3.6963009767630264\n"
          ]
        }
      ],
      "source": [
        "import sklearn.metrics as metrics\n",
        "errormodel1=np.sqrt(metrics.mean_squared_error(test_y,test_predicted))\n",
        "print(\"prediction error of the model1 is :\",errormodel1)"
      ]
    },
    {
      "cell_type": "code",
      "execution_count": 40,
      "id": "47cc2074",
      "metadata": {
        "colab": {
          "base_uri": "https://localhost:8080/"
        },
        "id": "47cc2074",
        "outputId": "4d425f02-a618-4ec8-8527-57d60719c00d"
      },
      "outputs": [
        {
          "output_type": "stream",
          "name": "stdout",
          "text": [
            "The R^2 on test data for model1 is:  16.448302462052478\n"
          ]
        }
      ],
      "source": [
        "scoremodel1_test=model1.score(tr1,test_y)\n",
        "print(\"The R^2 on test data for model1 is: \",(scoremodel1_test)*100)"
      ]
    },
    {
      "cell_type": "markdown",
      "id": "cfcbddea",
      "metadata": {
        "id": "cfcbddea"
      },
      "source": [
        "MODEL2"
      ]
    },
    {
      "cell_type": "code",
      "execution_count": 41,
      "id": "9e4918dc",
      "metadata": {
        "colab": {
          "base_uri": "https://localhost:8080/",
          "height": 424
        },
        "id": "9e4918dc",
        "outputId": "44442aff-fa3a-42fa-f433-31100f85b9fb"
      },
      "outputs": [
        {
          "output_type": "execute_result",
          "data": {
            "text/plain": [
              "        PRICE  HEIGHT  WIDTH  SIGNED  PICTURE  HOUSE      SIZE\n",
              "0    3.993780    21.3   25.6       1        1       1   545.28\n",
              "1    8.800000    31.9   25.6       1        2       2   816.64\n",
              "2    0.131694     6.9   15.9       0        3       3   109.71\n",
              "3    2.037500    25.7   32.0       1        4       2   822.40\n",
              "4    1.487500    25.7   32.0       1        4       2   822.40\n",
              "..        ...     ...    ...     ...      ...     ...      ...\n",
              "425  5.282500    25.6   39.4       1      375       1  1008.64\n",
              "426  9.352500    25.9   39.6       1      375       2  1025.64\n",
              "427  8.252500    25.6   39.6       1      375       1  1013.76\n",
              "428  3.410000    25.6   39.4       1      386       2  1008.64\n",
              "429  1.542500    25.7   32.0       1      387       1   822.40\n",
              "\n",
              "[430 rows x 7 columns]"
            ],
            "text/html": [
              "\n",
              "  <div id=\"df-daf3d2b0-585a-4026-8dde-2554f8386f85\">\n",
              "    <div class=\"colab-df-container\">\n",
              "      <div>\n",
              "<style scoped>\n",
              "    .dataframe tbody tr th:only-of-type {\n",
              "        vertical-align: middle;\n",
              "    }\n",
              "\n",
              "    .dataframe tbody tr th {\n",
              "        vertical-align: top;\n",
              "    }\n",
              "\n",
              "    .dataframe thead th {\n",
              "        text-align: right;\n",
              "    }\n",
              "</style>\n",
              "<table border=\"1\" class=\"dataframe\">\n",
              "  <thead>\n",
              "    <tr style=\"text-align: right;\">\n",
              "      <th></th>\n",
              "      <th>PRICE</th>\n",
              "      <th>HEIGHT</th>\n",
              "      <th>WIDTH</th>\n",
              "      <th>SIGNED</th>\n",
              "      <th>PICTURE</th>\n",
              "      <th>HOUSE</th>\n",
              "      <th>SIZE</th>\n",
              "    </tr>\n",
              "  </thead>\n",
              "  <tbody>\n",
              "    <tr>\n",
              "      <th>0</th>\n",
              "      <td>3.993780</td>\n",
              "      <td>21.3</td>\n",
              "      <td>25.6</td>\n",
              "      <td>1</td>\n",
              "      <td>1</td>\n",
              "      <td>1</td>\n",
              "      <td>545.28</td>\n",
              "    </tr>\n",
              "    <tr>\n",
              "      <th>1</th>\n",
              "      <td>8.800000</td>\n",
              "      <td>31.9</td>\n",
              "      <td>25.6</td>\n",
              "      <td>1</td>\n",
              "      <td>2</td>\n",
              "      <td>2</td>\n",
              "      <td>816.64</td>\n",
              "    </tr>\n",
              "    <tr>\n",
              "      <th>2</th>\n",
              "      <td>0.131694</td>\n",
              "      <td>6.9</td>\n",
              "      <td>15.9</td>\n",
              "      <td>0</td>\n",
              "      <td>3</td>\n",
              "      <td>3</td>\n",
              "      <td>109.71</td>\n",
              "    </tr>\n",
              "    <tr>\n",
              "      <th>3</th>\n",
              "      <td>2.037500</td>\n",
              "      <td>25.7</td>\n",
              "      <td>32.0</td>\n",
              "      <td>1</td>\n",
              "      <td>4</td>\n",
              "      <td>2</td>\n",
              "      <td>822.40</td>\n",
              "    </tr>\n",
              "    <tr>\n",
              "      <th>4</th>\n",
              "      <td>1.487500</td>\n",
              "      <td>25.7</td>\n",
              "      <td>32.0</td>\n",
              "      <td>1</td>\n",
              "      <td>4</td>\n",
              "      <td>2</td>\n",
              "      <td>822.40</td>\n",
              "    </tr>\n",
              "    <tr>\n",
              "      <th>...</th>\n",
              "      <td>...</td>\n",
              "      <td>...</td>\n",
              "      <td>...</td>\n",
              "      <td>...</td>\n",
              "      <td>...</td>\n",
              "      <td>...</td>\n",
              "      <td>...</td>\n",
              "    </tr>\n",
              "    <tr>\n",
              "      <th>425</th>\n",
              "      <td>5.282500</td>\n",
              "      <td>25.6</td>\n",
              "      <td>39.4</td>\n",
              "      <td>1</td>\n",
              "      <td>375</td>\n",
              "      <td>1</td>\n",
              "      <td>1008.64</td>\n",
              "    </tr>\n",
              "    <tr>\n",
              "      <th>426</th>\n",
              "      <td>9.352500</td>\n",
              "      <td>25.9</td>\n",
              "      <td>39.6</td>\n",
              "      <td>1</td>\n",
              "      <td>375</td>\n",
              "      <td>2</td>\n",
              "      <td>1025.64</td>\n",
              "    </tr>\n",
              "    <tr>\n",
              "      <th>427</th>\n",
              "      <td>8.252500</td>\n",
              "      <td>25.6</td>\n",
              "      <td>39.6</td>\n",
              "      <td>1</td>\n",
              "      <td>375</td>\n",
              "      <td>1</td>\n",
              "      <td>1013.76</td>\n",
              "    </tr>\n",
              "    <tr>\n",
              "      <th>428</th>\n",
              "      <td>3.410000</td>\n",
              "      <td>25.6</td>\n",
              "      <td>39.4</td>\n",
              "      <td>1</td>\n",
              "      <td>386</td>\n",
              "      <td>2</td>\n",
              "      <td>1008.64</td>\n",
              "    </tr>\n",
              "    <tr>\n",
              "      <th>429</th>\n",
              "      <td>1.542500</td>\n",
              "      <td>25.7</td>\n",
              "      <td>32.0</td>\n",
              "      <td>1</td>\n",
              "      <td>387</td>\n",
              "      <td>1</td>\n",
              "      <td>822.40</td>\n",
              "    </tr>\n",
              "  </tbody>\n",
              "</table>\n",
              "<p>430 rows × 7 columns</p>\n",
              "</div>\n",
              "      <button class=\"colab-df-convert\" onclick=\"convertToInteractive('df-daf3d2b0-585a-4026-8dde-2554f8386f85')\"\n",
              "              title=\"Convert this dataframe to an interactive table.\"\n",
              "              style=\"display:none;\">\n",
              "        \n",
              "  <svg xmlns=\"http://www.w3.org/2000/svg\" height=\"24px\"viewBox=\"0 0 24 24\"\n",
              "       width=\"24px\">\n",
              "    <path d=\"M0 0h24v24H0V0z\" fill=\"none\"/>\n",
              "    <path d=\"M18.56 5.44l.94 2.06.94-2.06 2.06-.94-2.06-.94-.94-2.06-.94 2.06-2.06.94zm-11 1L8.5 8.5l.94-2.06 2.06-.94-2.06-.94L8.5 2.5l-.94 2.06-2.06.94zm10 10l.94 2.06.94-2.06 2.06-.94-2.06-.94-.94-2.06-.94 2.06-2.06.94z\"/><path d=\"M17.41 7.96l-1.37-1.37c-.4-.4-.92-.59-1.43-.59-.52 0-1.04.2-1.43.59L10.3 9.45l-7.72 7.72c-.78.78-.78 2.05 0 2.83L4 21.41c.39.39.9.59 1.41.59.51 0 1.02-.2 1.41-.59l7.78-7.78 2.81-2.81c.8-.78.8-2.07 0-2.86zM5.41 20L4 18.59l7.72-7.72 1.47 1.35L5.41 20z\"/>\n",
              "  </svg>\n",
              "      </button>\n",
              "      \n",
              "  <style>\n",
              "    .colab-df-container {\n",
              "      display:flex;\n",
              "      flex-wrap:wrap;\n",
              "      gap: 12px;\n",
              "    }\n",
              "\n",
              "    .colab-df-convert {\n",
              "      background-color: #E8F0FE;\n",
              "      border: none;\n",
              "      border-radius: 50%;\n",
              "      cursor: pointer;\n",
              "      display: none;\n",
              "      fill: #1967D2;\n",
              "      height: 32px;\n",
              "      padding: 0 0 0 0;\n",
              "      width: 32px;\n",
              "    }\n",
              "\n",
              "    .colab-df-convert:hover {\n",
              "      background-color: #E2EBFA;\n",
              "      box-shadow: 0px 1px 2px rgba(60, 64, 67, 0.3), 0px 1px 3px 1px rgba(60, 64, 67, 0.15);\n",
              "      fill: #174EA6;\n",
              "    }\n",
              "\n",
              "    [theme=dark] .colab-df-convert {\n",
              "      background-color: #3B4455;\n",
              "      fill: #D2E3FC;\n",
              "    }\n",
              "\n",
              "    [theme=dark] .colab-df-convert:hover {\n",
              "      background-color: #434B5C;\n",
              "      box-shadow: 0px 1px 3px 1px rgba(0, 0, 0, 0.15);\n",
              "      filter: drop-shadow(0px 1px 2px rgba(0, 0, 0, 0.3));\n",
              "      fill: #FFFFFF;\n",
              "    }\n",
              "  </style>\n",
              "\n",
              "      <script>\n",
              "        const buttonEl =\n",
              "          document.querySelector('#df-daf3d2b0-585a-4026-8dde-2554f8386f85 button.colab-df-convert');\n",
              "        buttonEl.style.display =\n",
              "          google.colab.kernel.accessAllowed ? 'block' : 'none';\n",
              "\n",
              "        async function convertToInteractive(key) {\n",
              "          const element = document.querySelector('#df-daf3d2b0-585a-4026-8dde-2554f8386f85');\n",
              "          const dataTable =\n",
              "            await google.colab.kernel.invokeFunction('convertToInteractive',\n",
              "                                                     [key], {});\n",
              "          if (!dataTable) return;\n",
              "\n",
              "          const docLinkHtml = 'Like what you see? Visit the ' +\n",
              "            '<a target=\"_blank\" href=https://colab.research.google.com/notebooks/data_table.ipynb>data table notebook</a>'\n",
              "            + ' to learn more about interactive tables.';\n",
              "          element.innerHTML = '';\n",
              "          dataTable['output_type'] = 'display_data';\n",
              "          await google.colab.output.renderOutput(dataTable, element);\n",
              "          const docLink = document.createElement('div');\n",
              "          docLink.innerHTML = docLinkHtml;\n",
              "          element.appendChild(docLink);\n",
              "        }\n",
              "      </script>\n",
              "    </div>\n",
              "  </div>\n",
              "  "
            ]
          },
          "metadata": {},
          "execution_count": 41
        }
      ],
      "source": [
        "dt[\"WIDTH\"]\n",
        "dt"
      ]
    },
    {
      "cell_type": "code",
      "execution_count": 42,
      "id": "8f7e9af4",
      "metadata": {
        "id": "8f7e9af4"
      },
      "outputs": [],
      "source": [
        "from sklearn.model_selection import train_test_split\n",
        "train,test = train_test_split(dt, test_size=0.10, random_state=42)"
      ]
    },
    {
      "cell_type": "code",
      "execution_count": 43,
      "id": "bc6f4c03",
      "metadata": {
        "id": "bc6f4c03"
      },
      "outputs": [],
      "source": [
        "train_y = train[\"PRICE\"]\n",
        "del train[\"PRICE\"]\n",
        "\n",
        "test_y = test[\"PRICE\"]\n",
        "del test[\"PRICE\"]"
      ]
    },
    {
      "cell_type": "code",
      "execution_count": 44,
      "id": "f43ccbfa",
      "metadata": {
        "colab": {
          "base_uri": "https://localhost:8080/"
        },
        "id": "f43ccbfa",
        "outputId": "0e127a94-3bed-4805-b497-a6c108d7e4fa"
      },
      "outputs": [
        {
          "output_type": "execute_result",
          "data": {
            "text/plain": [
              "StandardScaler()"
            ]
          },
          "metadata": {},
          "execution_count": 44
        }
      ],
      "source": [
        "from sklearn.preprocessing import StandardScaler\n",
        "sc = StandardScaler()\n",
        "sc.fit(train)"
      ]
    },
    {
      "cell_type": "code",
      "execution_count": 45,
      "id": "91a5171b",
      "metadata": {
        "colab": {
          "base_uri": "https://localhost:8080/"
        },
        "id": "91a5171b",
        "outputId": "12b843e3-a5b3-48f7-cb9f-1fc436744be4"
      },
      "outputs": [
        {
          "output_type": "execute_result",
          "data": {
            "text/plain": [
              "StandardScaler()"
            ]
          },
          "metadata": {},
          "execution_count": 45
        }
      ],
      "source": [
        "from sklearn.preprocessing import StandardScaler\n",
        "sc = StandardScaler()\n",
        "sc.fit(test)"
      ]
    },
    {
      "cell_type": "code",
      "execution_count": 48,
      "id": "13089017",
      "metadata": {
        "id": "13089017"
      },
      "outputs": [],
      "source": [
        "train_new = sc.transform(train)\n",
        "test_new = sc.transform(test)"
      ]
    },
    {
      "cell_type": "code",
      "execution_count": 50,
      "id": "64647f35",
      "metadata": {
        "id": "64647f35"
      },
      "outputs": [],
      "source": [
        "tr = (np.array(train_new[:,-5]))"
      ]
    },
    {
      "cell_type": "code",
      "execution_count": 51,
      "id": "b30d6096",
      "metadata": {
        "colab": {
          "base_uri": "https://localhost:8080/"
        },
        "id": "b30d6096",
        "outputId": "6f8da64c-21aa-483c-c028-031346f2dd30"
      },
      "outputs": [
        {
          "output_type": "execute_result",
          "data": {
            "text/plain": [
              "array([ 2.41390859,  0.01218217,  0.15055324,  0.18020418,  0.19008783,\n",
              "       -0.29421091, -0.27444362, -0.31397821,  0.15055324,  0.18020418,\n",
              "        0.46682997,  0.46682997, -0.20525808, -1.48024865, -0.89711343,\n",
              "       -0.55118576, -0.26455997, -1.98431469,  0.17032054,  0.16043689,\n",
              "        0.15055324,  0.04183311, -0.25467632, -0.57095305, -0.57095305,\n",
              "       -0.53141846, -0.61048764, -1.12443733, -0.85757884, -0.59072035,\n",
              "        0.15055324,  0.35810984,  0.17032054,  0.17032054,  0.46682997,\n",
              "       -0.27444362, -0.27444362, -0.31397821,  2.21623564,  0.48659727,\n",
              "        4.35110357, -0.27444362, -0.59072035])"
            ]
          },
          "metadata": {},
          "execution_count": 51
        }
      ],
      "source": [
        "tr_1 = (np.array(test_new[:,-5]))\n",
        "tr_1"
      ]
    },
    {
      "cell_type": "code",
      "execution_count": 52,
      "id": "3a36e661",
      "metadata": {
        "colab": {
          "base_uri": "https://localhost:8080/"
        },
        "id": "3a36e661",
        "outputId": "a4b27e74-79f5-4133-dd9b-408893e085be"
      },
      "outputs": [
        {
          "output_type": "stream",
          "name": "stdout",
          "text": [
            "[[ 2.41390859]\n",
            " [ 0.01218217]\n",
            " [ 0.15055324]\n",
            " [ 0.18020418]\n",
            " [ 0.19008783]\n",
            " [-0.29421091]\n",
            " [-0.27444362]\n",
            " [-0.31397821]\n",
            " [ 0.15055324]\n",
            " [ 0.18020418]\n",
            " [ 0.46682997]\n",
            " [ 0.46682997]\n",
            " [-0.20525808]\n",
            " [-1.48024865]\n",
            " [-0.89711343]\n",
            " [-0.55118576]\n",
            " [-0.26455997]\n",
            " [-1.98431469]\n",
            " [ 0.17032054]\n",
            " [ 0.16043689]\n",
            " [ 0.15055324]\n",
            " [ 0.04183311]\n",
            " [-0.25467632]\n",
            " [-0.57095305]\n",
            " [-0.57095305]\n",
            " [-0.53141846]\n",
            " [-0.61048764]\n",
            " [-1.12443733]\n",
            " [-0.85757884]\n",
            " [-0.59072035]\n",
            " [ 0.15055324]\n",
            " [ 0.35810984]\n",
            " [ 0.17032054]\n",
            " [ 0.17032054]\n",
            " [ 0.46682997]\n",
            " [-0.27444362]\n",
            " [-0.27444362]\n",
            " [-0.31397821]\n",
            " [ 2.21623564]\n",
            " [ 0.48659727]\n",
            " [ 4.35110357]\n",
            " [-0.27444362]\n",
            " [-0.59072035]]\n"
          ]
        }
      ],
      "source": [
        "tr_1=tr_1.reshape(-1,1)\n",
        "print(tr_1)\n"
      ]
    },
    {
      "cell_type": "code",
      "execution_count": 53,
      "id": "4e3259f0",
      "metadata": {
        "colab": {
          "base_uri": "https://localhost:8080/"
        },
        "id": "4e3259f0",
        "outputId": "641b5556-33a8-4d22-c146-b1d2a67d00e3"
      },
      "outputs": [
        {
          "output_type": "execute_result",
          "data": {
            "text/plain": [
              "0.10986255503778675"
            ]
          },
          "metadata": {},
          "execution_count": 53
        }
      ],
      "source": [
        "from sklearn.linear_model import LinearRegression\n",
        "X = np.array(tr).reshape(-1,1)\n",
        "y = np.array(train_y)\n",
        "regressor = LinearRegression()\n",
        "model2 = regressor.fit(X,y)\n",
        "\n",
        "model2.score(X,y)"
      ]
    },
    {
      "cell_type": "code",
      "execution_count": 55,
      "id": "e286be34",
      "metadata": {
        "colab": {
          "base_uri": "https://localhost:8080/",
          "height": 295
        },
        "id": "e286be34",
        "outputId": "43c652c4-7a31-48eb-8d94-9b7e2619c2cf"
      },
      "outputs": [
        {
          "output_type": "display_data",
          "data": {
            "text/plain": [
              "<Figure size 432x288 with 1 Axes>"
            ],
            "image/png": "[encoded data removed]"
          },
          "metadata": {
            "needs_background": "light"
          }
        }
      ],
      "source": [
        "plt.scatter(X, y, color='black')\n",
        "plt.plot(X, regressor.predict(X), color='blue')\n",
        "plt.title('Size Training - WIDTH VS Size')\n",
        "plt.xlabel('WIDTH')\n",
        "plt.ylabel('PRICE')\n",
        "plt.show()"
      ]
    },
    {
      "cell_type": "code",
      "execution_count": 56,
      "id": "20e4a488",
      "metadata": {
        "colab": {
          "base_uri": "https://localhost:8080/"
        },
        "id": "20e4a488",
        "outputId": "0a93bbc1-cda5-4b53-a217-c1d7618654ca"
      },
      "outputs": [
        {
          "output_type": "stream",
          "name": "stdout",
          "text": [
            "Intercept of Regression line for  model2 is = 3.464257487827106\n",
            "coefficient for model2 is= [1.39157589]\n"
          ]
        }
      ],
      "source": [
        "print(\"Intercept of Regression line for  model2 is =\",model2.intercept_) \n",
        "print(\"coefficient for model2 is=\",model2.coef_)"
      ]
    },
    {
      "cell_type": "code",
      "execution_count": 58,
      "id": "95b13f7e",
      "metadata": {
        "colab": {
          "base_uri": "https://localhost:8080/"
        },
        "id": "95b13f7e",
        "outputId": "a7935ba9-6207-45b7-87fe-c57476fb118a"
      },
      "outputs": [
        {
          "output_type": "stream",
          "name": "stdout",
          "text": [
            "predicted price by the model2 is:\n",
            " [6.82339449 3.4812099  3.67376375 3.71502529 3.72877913 3.05484068\n",
            " 3.08234837 3.02733298 3.67376375 3.71502529 4.11388682 4.11388682\n",
            " 3.17862529 1.40437915 2.21585607 2.69724068 3.09610221 0.702933\n",
            " 3.70127144 3.68751759 3.67376375 3.52247144 3.10985606 2.66973299\n",
            " 2.66973299 2.72474837 2.6147176  1.89951761 2.27087145 2.64222529\n",
            " 3.67376375 3.96259451 3.70127144 3.70127144 4.11388682 3.08234837\n",
            " 3.08234837 3.02733298 6.54831757 4.14139451 9.51914832 3.08234837\n",
            " 2.64222529]\n"
          ]
        }
      ],
      "source": [
        "test_predicted = model2.predict(tr_1)\n",
        "print(\"predicted price by the model2 is:\\n\",test_predicted,sep=\" \")"
      ]
    },
    {
      "cell_type": "code",
      "execution_count": 59,
      "id": "a10351b3",
      "metadata": {
        "colab": {
          "base_uri": "https://localhost:8080/"
        },
        "id": "a10351b3",
        "outputId": "e86b0232-0221-4741-a65f-3879a4516528"
      },
      "outputs": [
        {
          "output_type": "stream",
          "name": "stdout",
          "text": [
            "prediction error of the model2 is : 3.560570331446997\n"
          ]
        }
      ],
      "source": [
        "errormodel2=np.sqrt(metrics.mean_squared_error(test_y,test_predicted))\n",
        "print(\"prediction error of the model2 is :\",errormodel2)"
      ]
    },
    {
      "cell_type": "code",
      "execution_count": 60,
      "id": "35b3ceff",
      "metadata": {
        "colab": {
          "base_uri": "https://localhost:8080/"
        },
        "id": "35b3ceff",
        "outputId": "68ea23ab-b01d-4dff-cf81-6f724b4a8869"
      },
      "outputs": [
        {
          "output_type": "stream",
          "name": "stdout",
          "text": [
            "The R^2  on test data for model2 is:  22.47178921032654\n"
          ]
        }
      ],
      "source": [
        "scoremodel2_test=model2.score(tr_1,test_y)\n",
        "print(\"The R^2  on test data for model2 is: \",(scoremodel2_test)*100)"
      ]
    },
    {
      "cell_type": "markdown",
      "id": "0b34f806",
      "metadata": {
        "id": "0b34f806"
      },
      "source": [
        "TASK 2 :"
      ]
    },
    {
      "cell_type": "code",
      "execution_count": 61,
      "id": "c0f2dcb2",
      "metadata": {
        "id": "c0f2dcb2"
      },
      "outputs": [],
      "source": [
        "X = dt[['HEIGHT', 'WIDTH']]\n",
        "y = dt['PRICE']"
      ]
    },
    {
      "cell_type": "code",
      "execution_count": 62,
      "id": "9c7d1f5f",
      "metadata": {
        "id": "9c7d1f5f"
      },
      "outputs": [],
      "source": [
        "from sklearn.model_selection import train_test_split\n",
        "train,test = train_test_split(dt, test_size=0.10, random_state=42)"
      ]
    },
    {
      "cell_type": "code",
      "execution_count": 63,
      "id": "aad03814",
      "metadata": {
        "id": "aad03814"
      },
      "outputs": [],
      "source": [
        "train_y = train[\"PRICE\"]\n",
        "del train[\"PRICE\"]\n",
        "\n",
        "test_y = test[\"PRICE\"]\n",
        "del test[\"PRICE\"]"
      ]
    },
    {
      "cell_type": "code",
      "execution_count": 64,
      "id": "9489a2ad",
      "metadata": {
        "colab": {
          "base_uri": "https://localhost:8080/"
        },
        "id": "9489a2ad",
        "outputId": "29ef3f41-67f2-4abc-da52-71aa28ceff05"
      },
      "outputs": [
        {
          "output_type": "execute_result",
          "data": {
            "text/plain": [
              "StandardScaler()"
            ]
          },
          "metadata": {},
          "execution_count": 64
        }
      ],
      "source": [
        "from sklearn.preprocessing import StandardScaler\n",
        "sc = StandardScaler()\n",
        "sc.fit(train)"
      ]
    },
    {
      "cell_type": "code",
      "execution_count": 65,
      "id": "d6e89c81",
      "metadata": {
        "colab": {
          "base_uri": "https://localhost:8080/"
        },
        "id": "d6e89c81",
        "outputId": "7b79fc02-7be5-4244-c927-4b9e2685f51d"
      },
      "outputs": [
        {
          "output_type": "execute_result",
          "data": {
            "text/plain": [
              "StandardScaler()"
            ]
          },
          "metadata": {},
          "execution_count": 65
        }
      ],
      "source": [
        "from sklearn.preprocessing import StandardScaler\n",
        "sc = StandardScaler()\n",
        "sc.fit(test)"
      ]
    },
    {
      "cell_type": "code",
      "execution_count": 66,
      "id": "92530193",
      "metadata": {
        "id": "92530193"
      },
      "outputs": [],
      "source": [
        "train_new = sc.transform(train)\n",
        "test_new = sc.transform(test)"
      ]
    },
    {
      "cell_type": "code",
      "execution_count": 68,
      "id": "23ec0fc3",
      "metadata": {
        "id": "23ec0fc3"
      },
      "outputs": [],
      "source": [
        "tr = train_new[:,1:3]\n"
      ]
    },
    {
      "cell_type": "code",
      "execution_count": 69,
      "id": "be3ad2f7",
      "metadata": {
        "id": "be3ad2f7"
      },
      "outputs": [],
      "source": [
        "tr1 = test_new[:,1:3]\n"
      ]
    },
    {
      "cell_type": "code",
      "execution_count": 70,
      "id": "e0b0636a",
      "metadata": {
        "colab": {
          "base_uri": "https://localhost:8080/"
        },
        "id": "e0b0636a",
        "outputId": "6c26144e-34c3-4602-fcf7-6afefb114c2c"
      },
      "outputs": [
        {
          "output_type": "stream",
          "name": "stdout",
          "text": [
            "[[ 2.41390859]\n",
            " [ 0.01218217]\n",
            " [ 0.15055324]\n",
            " [ 0.18020418]\n",
            " [ 0.19008783]\n",
            " [-0.29421091]\n",
            " [-0.27444362]\n",
            " [-0.31397821]\n",
            " [ 0.15055324]\n",
            " [ 0.18020418]\n",
            " [ 0.46682997]\n",
            " [ 0.46682997]\n",
            " [-0.20525808]\n",
            " [-1.48024865]\n",
            " [-0.89711343]\n",
            " [-0.55118576]\n",
            " [-0.26455997]\n",
            " [-1.98431469]\n",
            " [ 0.17032054]\n",
            " [ 0.16043689]\n",
            " [ 0.15055324]\n",
            " [ 0.04183311]\n",
            " [-0.25467632]\n",
            " [-0.57095305]\n",
            " [-0.57095305]\n",
            " [-0.53141846]\n",
            " [-0.61048764]\n",
            " [-1.12443733]\n",
            " [-0.85757884]\n",
            " [-0.59072035]\n",
            " [ 0.15055324]\n",
            " [ 0.35810984]\n",
            " [ 0.17032054]\n",
            " [ 0.17032054]\n",
            " [ 0.46682997]\n",
            " [-0.27444362]\n",
            " [-0.27444362]\n",
            " [-0.31397821]\n",
            " [ 2.21623564]\n",
            " [ 0.48659727]\n",
            " [ 4.35110357]\n",
            " [-0.27444362]\n",
            " [-0.59072035]]\n"
          ]
        }
      ],
      "source": [
        "print(tr_1)"
      ]
    },
    {
      "cell_type": "code",
      "execution_count": 71,
      "id": "13b761e1",
      "metadata": {
        "id": "13b761e1"
      },
      "outputs": [],
      "source": [
        "from sklearn.linear_model import LinearRegression\n",
        "X1 = np.array(tr)\n",
        "y1 = np.array(train_y)\n",
        "regressor = LinearRegression()"
      ]
    },
    {
      "cell_type": "code",
      "execution_count": 72,
      "id": "945d4705",
      "metadata": {
        "colab": {
          "base_uri": "https://localhost:8080/"
        },
        "id": "945d4705",
        "outputId": "009111f1-5304-45c3-c532-cec56cbdcaeb"
      },
      "outputs": [
        {
          "output_type": "execute_result",
          "data": {
            "text/plain": [
              "0.14030910389208662"
            ]
          },
          "metadata": {},
          "execution_count": 72
        }
      ],
      "source": [
        "model_final = regressor.fit(X1,y1)\n",
        "model_final.score(X1,y1)"
      ]
    },
    {
      "cell_type": "code",
      "execution_count": 74,
      "id": "1bad564c",
      "metadata": {
        "colab": {
          "base_uri": "https://localhost:8080/"
        },
        "id": "1bad564c",
        "outputId": "7f92a552-b41a-4b7b-8d0c-a07dc08168c6"
      },
      "outputs": [
        {
          "output_type": "stream",
          "name": "stdout",
          "text": [
            "Intercept: 3.523266703724772\n",
            "Coefficients: [1.47409431 0.72990411]\n"
          ]
        }
      ],
      "source": [
        "print('Intercept:', model_final.intercept_)\n",
        "print('Coefficients:', model_final.coef_)"
      ]
    },
    {
      "cell_type": "code",
      "execution_count": 75,
      "id": "7c5725fc",
      "metadata": {
        "colab": {
          "base_uri": "https://localhost:8080/"
        },
        "id": "7c5725fc",
        "outputId": "43911a73-4213-4919-fd93-6c53871de73f"
      },
      "outputs": [
        {
          "output_type": "stream",
          "name": "stdout",
          "text": [
            "predicted price :\n",
            " [6.82339449 3.4812099  3.67376375 3.71502529 3.72877913 3.05484068\n",
            " 3.08234837 3.02733298 3.67376375 3.71502529 4.11388682 4.11388682\n",
            " 3.17862529 1.40437915 2.21585607 2.69724068 3.09610221 0.702933\n",
            " 3.70127144 3.68751759 3.67376375 3.52247144 3.10985606 2.66973299\n",
            " 2.66973299 2.72474837 2.6147176  1.89951761 2.27087145 2.64222529\n",
            " 3.67376375 3.96259451 3.70127144 3.70127144 4.11388682 3.08234837\n",
            " 3.08234837 3.02733298 6.54831757 4.14139451 9.51914832 3.08234837\n",
            " 2.64222529]\n"
          ]
        }
      ],
      "source": [
        "test_pred = model_final.predict(tr1)\n",
        "print(\"predicted price :\\n\",test_predicted,sep=\" \")"
      ]
    },
    {
      "cell_type": "code",
      "execution_count": 76,
      "id": "1fa81944",
      "metadata": {
        "colab": {
          "base_uri": "https://localhost:8080/"
        },
        "id": "1fa81944",
        "outputId": "1804e42a-39c4-4e58-df0b-890580ea312a"
      },
      "outputs": [
        {
          "output_type": "stream",
          "name": "stdout",
          "text": [
            "prediction error is : 3.560570331446997\n"
          ]
        }
      ],
      "source": [
        "import sklearn.metrics as metrics\n",
        "errormodel=np.sqrt(metrics.mean_squared_error(test_y,test_predicted))\n",
        "print(\"prediction error is :\",errormodel)"
      ]
    },
    {
      "cell_type": "code",
      "execution_count": 77,
      "id": "5e3ae10f",
      "metadata": {
        "colab": {
          "base_uri": "https://localhost:8080/"
        },
        "id": "5e3ae10f",
        "outputId": "c156d890-3ef4-4da9-f39c-127b7755ee70"
      },
      "outputs": [
        {
          "output_type": "stream",
          "name": "stdout",
          "text": [
            "The R^2 for model is:  25.840518362696198\n"
          ]
        }
      ],
      "source": [
        "scoremodel_test=model_final.score(tr1,test_y)\n",
        "print(\"The R^2 for model is: \",(scoremodel_test)*100)"
      ]
    },
    {
      "cell_type": "code",
      "execution_count": 82,
      "id": "6d7257b3",
      "metadata": {
        "colab": {
          "base_uri": "https://localhost:8080/"
        },
        "id": "6d7257b3",
        "outputId": "6454fa1d-62ff-4f00-a592-5e64539142ee"
      },
      "outputs": [
        {
          "output_type": "stream",
          "name": "stdout",
          "text": [
            "Adjusted R^2 for model is  22.132544280831002\n"
          ]
        }
      ],
      "source": [
        "Adjusted_model=(1 -(1-model_final.score(tr1,test_y))* (len(test_y)-1)/(len(test_y)-tr1.shape[1]-1 ))*100\n",
        "print(\"Adjusted R^2 for model is \", Adjusted_model )"
      ]
    },
    {
      "cell_type": "code",
      "execution_count": null,
      "id": "daeb09b8",
      "metadata": {
        "id": "daeb09b8"
      },
      "outputs": [],
      "source": [
        ""
      ]
    }
  ],
  "metadata": {
    "kernelspec": {
      "display_name": "Python 3",
      "language": "python",
      "name": "python3"
    },
    "language_info": {
      "codemirror_mode": {
        "name": "ipython",
        "version": 3
      },
      "file_extension": ".py",
      "mimetype": "text/x-python",
      "name": "python",
      "nbconvert_exporter": "python",
      "pygments_lexer": "ipython3",
      "version": "3.8.8"
    },
    "colab": {
      "name": "linear regresssion assignment.ipynb",
      "provenance": [],
      "collapsed_sections": [],
      "include_colab_link": true
    }
  },
  "nbformat": 4,
  "nbformat_minor": 5
}